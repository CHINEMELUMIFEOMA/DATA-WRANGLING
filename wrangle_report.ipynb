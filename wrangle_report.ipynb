{
 "cells": [
  {
   "cell_type": "markdown",
   "id": "629d9fca",
   "metadata": {},
   "source": [
    "DATA WRANGLING PROCESS\n",
    "\n",
    " This report seeks to give a detailed explanation about the data wrangling process engaged in by the auhtor and its benefits to her in the development of her data wragling skills. The Twitter archived data of an online business(WeRateDogs) was used as the case study for this process. \n",
    "\n",
    "\n",
    "  The journey thus far has not been an easy one, it has stretched me to an unimaginable extent to which I am more happy than sad about knowing fully well that I am being made better.\n",
    "\n",
    "\n",
    "I was presented with three(3) dataset, one was assumed to have been handed over to me internally, while i waas to get one from the web and the other through scraping Twitters API.\n",
    "As a result of time constraints I was unable to scrape Twitter API rather I used the dataset as provided by my instructors(who already have Twitter API scraped). The datasets were named 'twitter-archive-enhanced.csv','image-predictions.tsv' and 'tweet-json.txt' respectively.\n",
    "\n",
    "I imported some packages that would make my work easier like the pandas, requests, json for reading the files and  matplotlib for visualizations.\n",
    "\n",
    "Then the herculean task of improving the quality and tidiness of these three dataset(data wrangling process) began. I began by gathering these three tables into my workspace(Jupyter Notebook) using the packages metioned above to read them, then I assessed the data visually using Excel and programatically using Jupyter Notebook. I identified over eight quality issues and two tidiness issues, these I addressed by writing lines of codes.  To the cleaning aspect of the data wrangling process, this was done in three steps: Define, Code and Test simultaneously. It is necessary to state at this point that it hits different when you are writing these codes on your own and when you are following a teacher in the classroom. Alot of errors arose which sometimes were as a result of a missed comma or a semi-colon or misspellig of a variable, also difference in the data types among others.\n",
    "\n",
    "Through all these, I have learnt to remain calm and tackle any data wrangling issue meticulously, reiteration is key for effective analysis, errors detected only serve as guideline to make me better and improve my wrangling skills.\n",
    "\n",
    "\n",
    "\n",
    "\n"
   ]
  },
  {
   "cell_type": "code",
   "execution_count": null,
   "id": "bb18ea40",
   "metadata": {},
   "outputs": [],
   "source": []
  }
 ],
 "metadata": {
  "kernelspec": {
   "display_name": "Python [conda env:project2]",
   "language": "python",
   "name": "conda-env-project2-py"
  },
  "language_info": {
   "codemirror_mode": {
    "name": "ipython",
    "version": 3
   },
   "file_extension": ".py",
   "mimetype": "text/x-python",
   "name": "python",
   "nbconvert_exporter": "python",
   "pygments_lexer": "ipython3",
   "version": "3.10.4"
  }
 },
 "nbformat": 4,
 "nbformat_minor": 5
}
